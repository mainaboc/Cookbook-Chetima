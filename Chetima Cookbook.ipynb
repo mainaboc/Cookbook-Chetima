{
 "cells": [
  {
   "cell_type": "markdown",
   "id": "de13641d",
   "metadata": {},
   "source": [
    "# Chetima Cookbook:\n"
   ]
  },
  {
   "cell_type": "markdown",
   "id": "e57734f8",
   "metadata": {},
   "source": [
    "sources:\n",
    "https://www.geeksforgeeks.org/"
   ]
  },
  {
   "cell_type": "code",
   "execution_count": 26,
   "id": "2745ec6e",
   "metadata": {},
   "outputs": [],
   "source": [
    "#Importing the necessary packages.\n",
    "import pandas as pd\n",
    "from matplotlib import pyplot as plt\n",
    "import seaborn as sns"
   ]
  },
  {
   "cell_type": "markdown",
   "id": "bcdbce97",
   "metadata": {},
   "source": [
    "This cookbook provides simple but incredibly useful techniques that can be used to analyse data."
   ]
  },
  {
   "cell_type": "markdown",
   "id": "52ae41b1",
   "metadata": {},
   "source": [
    "## 1.Merging dataframes:"
   ]
  },
  {
   "cell_type": "markdown",
   "id": "659b91d5",
   "metadata": {},
   "source": [
    "This technique is used to combine multiple dataframes into one. It facilitates the data analysis and provides more clarity and organization to the work being done. I will demnstrate an example below."
   ]
  },
  {
   "cell_type": "markdown",
   "id": "ff7736ac",
   "metadata": {},
   "source": [
    "Let's say that we want to study the correlation between Human development index and death rate across the globe:"
   ]
  },
  {
   "cell_type": "code",
   "execution_count": 3,
   "id": "7656f9c7",
   "metadata": {},
   "outputs": [],
   "source": [
    "#Reading the necessary csv files.\n",
    "df1 = pd.read_csv(\"human-development-index.csv\")\n",
    "df2 = pd.read_csv(\"population-and-demography.csv\")"
   ]
  },
  {
   "cell_type": "code",
   "execution_count": 4,
   "id": "41891d1c",
   "metadata": {},
   "outputs": [
    {
     "data": {
      "text/plain": [
       "Index(['Entity', 'Code', 'Year', 'Human Development Index'], dtype='object')"
      ]
     },
     "execution_count": 4,
     "metadata": {},
     "output_type": "execute_result"
    }
   ],
   "source": [
    "#Now displaying the 2 dataframes in order to check their structure.\n",
    "df1.columns"
   ]
  },
  {
   "cell_type": "code",
   "execution_count": 5,
   "id": "c5238626",
   "metadata": {},
   "outputs": [
    {
     "data": {
      "text/plain": [
       "Index(['Country name', 'Year', 'Death rate'], dtype='object')"
      ]
     },
     "execution_count": 5,
     "metadata": {},
     "output_type": "execute_result"
    }
   ],
   "source": [
    "df2.columns"
   ]
  },
  {
   "cell_type": "markdown",
   "id": "41fd82e0",
   "metadata": {},
   "source": [
    "The two dataframes have two comulmns in common: Year and Entity/country name, which contains the same variable but different names. I will then have to rename one of them. "
   ]
  },
  {
   "cell_type": "code",
   "execution_count": 6,
   "id": "3cf726bd",
   "metadata": {},
   "outputs": [],
   "source": [
    "#Renaming a column's name in df2.\n",
    "df2.rename(columns = {'Country name':'Entity'}, inplace = True)"
   ]
  },
  {
   "cell_type": "code",
   "execution_count": 7,
   "id": "f84678dd",
   "metadata": {},
   "outputs": [
    {
     "data": {
      "text/plain": [
       "Index(['Entity', 'Year', 'Death rate'], dtype='object')"
      ]
     },
     "execution_count": 7,
     "metadata": {},
     "output_type": "execute_result"
    }
   ],
   "source": [
    "df2.columns"
   ]
  },
  {
   "cell_type": "markdown",
   "id": "ecaf03f0",
   "metadata": {},
   "source": [
    "Now we are ready to merge the dataframes. Using the merge() method. "
   ]
  },
  {
   "cell_type": "code",
   "execution_count": 8,
   "id": "58ddced6",
   "metadata": {},
   "outputs": [
    {
     "name": "stdout",
     "output_type": "stream",
     "text": [
      "           Entity Code  Year  Human Development Index  Death rate\n",
      "0     Afghanistan  AFG  1990                    0.273      18.449\n",
      "1     Afghanistan  AFG  1991                    0.279      17.946\n",
      "2     Afghanistan  AFG  1992                    0.287      17.222\n",
      "3     Afghanistan  AFG  1993                    0.297      14.838\n",
      "4     Afghanistan  AFG  1994                    0.292      14.689\n",
      "...           ...  ...   ...                      ...         ...\n",
      "5598     Zimbabwe  ZWE  2017                    0.594       8.266\n",
      "5599     Zimbabwe  ZWE  2018                    0.602       7.972\n",
      "5600     Zimbabwe  ZWE  2019                    0.601       8.043\n",
      "5601     Zimbabwe  ZWE  2020                    0.600       8.132\n",
      "5602     Zimbabwe  ZWE  2021                    0.593       9.057\n",
      "\n",
      "[5603 rows x 5 columns]\n"
     ]
    }
   ],
   "source": [
    "#Merging df1 and df2\n",
    "Merged_df1_df2 = df1.merge(df2)\n",
    "print(Merged_df1_df2)"
   ]
  },
  {
   "cell_type": "markdown",
   "id": "74f08e70",
   "metadata": {},
   "source": [
    "Above is the merged dataframe for df1 and df2 with years they have in common, form 1990 until 2021."
   ]
  },
  {
   "cell_type": "markdown",
   "id": "45916d9c",
   "metadata": {},
   "source": [
    "## 2.Groupby:"
   ]
  },
  {
   "cell_type": "markdown",
   "id": "f441f006",
   "metadata": {},
   "source": [
    "This function can be used to do mutiple tasks involving two columns from the same dataframe."
   ]
  },
  {
   "cell_type": "markdown",
   "id": "7fd046f9",
   "metadata": {},
   "source": [
    "In this case, I am looking for the minimum and maximum death rates from each entity, over 31 years, from 1990 to 2021."
   ]
  },
  {
   "cell_type": "code",
   "execution_count": 9,
   "id": "694e9f43",
   "metadata": {},
   "outputs": [
    {
     "name": "stdout",
     "output_type": "stream",
     "text": [
      "                  min     max\n",
      "Entity                       \n",
      "Afghanistan     6.791  37.945\n",
      "Africa (UN)     8.162  26.636\n",
      "Albania         5.466  22.450\n",
      "Algeria         4.392  25.046\n",
      "American Samoa  4.349   9.586\n",
      "...               ...     ...\n",
      "Western Sahara  6.057  29.029\n",
      "World           7.462  19.518\n",
      "Yemen           5.507  35.147\n",
      "Zambia          6.571  19.740\n",
      "Zimbabwe        7.972  19.048\n",
      "\n",
      "[255 rows x 2 columns]\n"
     ]
    }
   ],
   "source": [
    "Min_Max = df2.groupby(\"Entity\")[\"Death rate\"].agg([min, max])\n",
    "print(Min_Max)"
   ]
  },
  {
   "cell_type": "markdown",
   "id": "767e70be",
   "metadata": {},
   "source": [
    "## 3.Visualizating data with a library:"
   ]
  },
  {
   "cell_type": "markdown",
   "id": "73645ed5",
   "metadata": {},
   "source": [
    "To better determine the correlation from part 1) we can make a scatter plot."
   ]
  },
  {
   "cell_type": "markdown",
   "id": "d812e95a",
   "metadata": {},
   "source": [
    "We are first narrowing down the data to one particular year to facilitate the visualization."
   ]
  },
  {
   "cell_type": "code",
   "execution_count": 10,
   "id": "52b5007d",
   "metadata": {},
   "outputs": [],
   "source": [
    "merged_2021 = Merged_df1_df2[Merged_df1_df2[\"Year\"] == 2021]"
   ]
  },
  {
   "cell_type": "code",
   "execution_count": 11,
   "id": "cd3f98a7",
   "metadata": {},
   "outputs": [
    {
     "data": {
      "text/html": [
       "<div>\n",
       "<style scoped>\n",
       "    .dataframe tbody tr th:only-of-type {\n",
       "        vertical-align: middle;\n",
       "    }\n",
       "\n",
       "    .dataframe tbody tr th {\n",
       "        vertical-align: top;\n",
       "    }\n",
       "\n",
       "    .dataframe thead th {\n",
       "        text-align: right;\n",
       "    }\n",
       "</style>\n",
       "<table border=\"1\" class=\"dataframe\">\n",
       "  <thead>\n",
       "    <tr style=\"text-align: right;\">\n",
       "      <th></th>\n",
       "      <th>Entity</th>\n",
       "      <th>Code</th>\n",
       "      <th>Year</th>\n",
       "      <th>Human Development Index</th>\n",
       "      <th>Death rate</th>\n",
       "    </tr>\n",
       "  </thead>\n",
       "  <tbody>\n",
       "    <tr>\n",
       "      <th>31</th>\n",
       "      <td>Afghanistan</td>\n",
       "      <td>AFG</td>\n",
       "      <td>2021</td>\n",
       "      <td>0.478</td>\n",
       "      <td>7.344</td>\n",
       "    </tr>\n",
       "    <tr>\n",
       "      <th>63</th>\n",
       "      <td>Albania</td>\n",
       "      <td>ALB</td>\n",
       "      <td>2021</td>\n",
       "      <td>0.796</td>\n",
       "      <td>11.325</td>\n",
       "    </tr>\n",
       "    <tr>\n",
       "      <th>95</th>\n",
       "      <td>Algeria</td>\n",
       "      <td>DZA</td>\n",
       "      <td>2021</td>\n",
       "      <td>0.745</td>\n",
       "      <td>4.546</td>\n",
       "    </tr>\n",
       "    <tr>\n",
       "      <th>117</th>\n",
       "      <td>Andorra</td>\n",
       "      <td>AND</td>\n",
       "      <td>2021</td>\n",
       "      <td>0.858</td>\n",
       "      <td>8.180</td>\n",
       "    </tr>\n",
       "    <tr>\n",
       "      <th>140</th>\n",
       "      <td>Angola</td>\n",
       "      <td>AGO</td>\n",
       "      <td>2021</td>\n",
       "      <td>0.586</td>\n",
       "      <td>8.009</td>\n",
       "    </tr>\n",
       "    <tr>\n",
       "      <th>...</th>\n",
       "      <td>...</td>\n",
       "      <td>...</td>\n",
       "      <td>...</td>\n",
       "      <td>...</td>\n",
       "      <td>...</td>\n",
       "    </tr>\n",
       "    <tr>\n",
       "      <th>5474</th>\n",
       "      <td>Vietnam</td>\n",
       "      <td>VNM</td>\n",
       "      <td>2021</td>\n",
       "      <td>0.703</td>\n",
       "      <td>7.317</td>\n",
       "    </tr>\n",
       "    <tr>\n",
       "      <th>5506</th>\n",
       "      <td>World</td>\n",
       "      <td>OWID_WRL</td>\n",
       "      <td>2021</td>\n",
       "      <td>0.732</td>\n",
       "      <td>8.756</td>\n",
       "    </tr>\n",
       "    <tr>\n",
       "      <th>5538</th>\n",
       "      <td>Yemen</td>\n",
       "      <td>YEM</td>\n",
       "      <td>2021</td>\n",
       "      <td>0.455</td>\n",
       "      <td>6.845</td>\n",
       "    </tr>\n",
       "    <tr>\n",
       "      <th>5570</th>\n",
       "      <td>Zambia</td>\n",
       "      <td>ZMB</td>\n",
       "      <td>2021</td>\n",
       "      <td>0.565</td>\n",
       "      <td>6.973</td>\n",
       "    </tr>\n",
       "    <tr>\n",
       "      <th>5602</th>\n",
       "      <td>Zimbabwe</td>\n",
       "      <td>ZWE</td>\n",
       "      <td>2021</td>\n",
       "      <td>0.593</td>\n",
       "      <td>9.057</td>\n",
       "    </tr>\n",
       "  </tbody>\n",
       "</table>\n",
       "<p>192 rows × 5 columns</p>\n",
       "</div>"
      ],
      "text/plain": [
       "           Entity      Code  Year  Human Development Index  Death rate\n",
       "31    Afghanistan       AFG  2021                    0.478       7.344\n",
       "63        Albania       ALB  2021                    0.796      11.325\n",
       "95        Algeria       DZA  2021                    0.745       4.546\n",
       "117       Andorra       AND  2021                    0.858       8.180\n",
       "140        Angola       AGO  2021                    0.586       8.009\n",
       "...           ...       ...   ...                      ...         ...\n",
       "5474      Vietnam       VNM  2021                    0.703       7.317\n",
       "5506        World  OWID_WRL  2021                    0.732       8.756\n",
       "5538        Yemen       YEM  2021                    0.455       6.845\n",
       "5570       Zambia       ZMB  2021                    0.565       6.973\n",
       "5602     Zimbabwe       ZWE  2021                    0.593       9.057\n",
       "\n",
       "[192 rows x 5 columns]"
      ]
     },
     "execution_count": 11,
     "metadata": {},
     "output_type": "execute_result"
    }
   ],
   "source": [
    "merged_2021"
   ]
  },
  {
   "cell_type": "markdown",
   "id": "68e72026",
   "metadata": {},
   "source": [
    "### visualizing with plyplot:"
   ]
  },
  {
   "cell_type": "markdown",
   "id": "cd2e7a70",
   "metadata": {},
   "source": [
    "Firstly we have to call pyplot as plt and select the visualization type. The first argument reprents the column that has to be lotted on the x-axis and the second argument is the columns that has to be plotted on the y-axis."
   ]
  },
  {
   "cell_type": "code",
   "execution_count": 12,
   "id": "84c2c905",
   "metadata": {},
   "outputs": [
    {
     "data": {
      "text/plain": [
       "Text(0.5, 1.0, 'Death rate vs HDI')"
      ]
     },
     "execution_count": 12,
     "metadata": {},
     "output_type": "execute_result"
    },
    {
     "data": {
      "image/png": "[encoded data removed]",
      "text/plain": [
       "<Figure size 640x480 with 1 Axes>"
      ]
     },
     "metadata": {},
     "output_type": "display_data"
    }
   ],
   "source": [
    "plt.scatter(merged_2021[\"Human Development Index\"], merged_2021[\"Death rate\"])\n",
    "plt.ylabel(\"Death rate\")\n",
    "plt.xlabel(\"Human Development Index\")\n",
    "plt.title(\"Death rate vs HDI\")"
   ]
  },
  {
   "cell_type": "markdown",
   "id": "7dbc13dc",
   "metadata": {},
   "source": [
    "### Visualizing with seaborn:\n"
   ]
  },
  {
   "cell_type": "markdown",
   "id": "29409812",
   "metadata": {},
   "source": [
    "The first part of the code consists of calling the package previously imported and select the visualization type as done with pyplot. In the second part we assign the columns we would like to plot to the x and y axis we would repectively want to see them plotted on. "
   ]
  },
  {
   "cell_type": "code",
   "execution_count": 13,
   "id": "6247557e",
   "metadata": {},
   "outputs": [
    {
     "data": {
      "text/plain": [
       "<AxesSubplot:xlabel='Human Development Index', ylabel='Death rate'>"
      ]
     },
     "execution_count": 13,
     "metadata": {},
     "output_type": "execute_result"
    },
    {
     "data": {
      "image/png": "[encoded data removed]",
      "text/plain": [
       "<Figure size 640x480 with 1 Axes>"
      ]
     },
     "metadata": {},
     "output_type": "display_data"
    }
   ],
   "source": [
    "sns.scatterplot(x= merged_2021[\"Human Development Index\"], y= merged_2021[\"Death rate\"])"
   ]
  },
  {
   "cell_type": "markdown",
   "id": "dc53bb2b",
   "metadata": {},
   "source": [
    "## 4.Value counts: "
   ]
  },
  {
   "cell_type": "markdown",
   "id": "70911b15",
   "metadata": {},
   "source": [
    "This is one the most simple but efficient tools I have used in this class."
   ]
  },
  {
   "cell_type": "markdown",
   "id": "a1d8f805",
   "metadata": {},
   "source": [
    "This function can be used the number of times a variable is repeated in a specific column."
   ]
  },
  {
   "cell_type": "code",
   "execution_count": 21,
   "id": "3eb54119",
   "metadata": {},
   "outputs": [
    {
     "data": {
      "text/plain": [
       "0.745    4\n",
       "0.607    3\n",
       "0.767    3\n",
       "0.802    3\n",
       "0.875    3\n",
       "        ..\n",
       "0.940    1\n",
       "0.498    1\n",
       "0.597    1\n",
       "0.890    1\n",
       "0.565    1\n",
       "Name: Human Development Index, Length: 163, dtype: int64"
      ]
     },
     "execution_count": 21,
     "metadata": {},
     "output_type": "execute_result"
    }
   ],
   "source": [
    "#The number of times a specific Human Development Index(HDI) repeats itself. Meaning how many countries have the same HDI.\n",
    "merged_2021[\"Human Development Index\"].value_counts()"
   ]
  },
  {
   "cell_type": "markdown",
   "id": "dbeb1c70",
   "metadata": {},
   "source": [
    "We can also sort them in a descending or ascending order. By assigning either False for descending or True for ascending, to sort."
   ]
  },
  {
   "cell_type": "code",
   "execution_count": 25,
   "id": "63f69bfe",
   "metadata": {},
   "outputs": [
    {
     "data": {
      "text/plain": [
       "0.478    1\n",
       "0.796    1\n",
       "0.745    4\n",
       "0.858    2\n",
       "0.586    1\n",
       "        ..\n",
       "0.691    1\n",
       "0.703    1\n",
       "0.732    1\n",
       "0.455    1\n",
       "0.565    1\n",
       "Name: Human Development Index, Length: 163, dtype: int64"
      ]
     },
     "execution_count": 25,
     "metadata": {},
     "output_type": "execute_result"
    }
   ],
   "source": [
    "merged_2021[\"Human Development Index\"].value_counts(sort = False)"
   ]
  },
  {
   "cell_type": "markdown",
   "id": "49210c16",
   "metadata": {},
   "source": [
    "It is also possible to find proportions. In our case, we can determine the proportion of an HDI within our dataset. For example, only 2% of the dataset have a HDI equal to 0.745. "
   ]
  },
  {
   "cell_type": "code",
   "execution_count": 23,
   "id": "d6916aef",
   "metadata": {},
   "outputs": [
    {
     "data": {
      "text/plain": [
       "0.745    0.020833\n",
       "0.607    0.015625\n",
       "0.767    0.015625\n",
       "0.802    0.015625\n",
       "0.875    0.015625\n",
       "           ...   \n",
       "0.940    0.005208\n",
       "0.498    0.005208\n",
       "0.597    0.005208\n",
       "0.890    0.005208\n",
       "0.565    0.005208\n",
       "Name: Human Development Index, Length: 163, dtype: float64"
      ]
     },
     "execution_count": 23,
     "metadata": {},
     "output_type": "execute_result"
    }
   ],
   "source": [
    "merged_2021[\"Human Development Index\"].value_counts(normalize = True)"
   ]
  },
  {
   "cell_type": "markdown",
   "id": "52414c48",
   "metadata": {},
   "source": [
    "Finally, we can sort and normalize at the same time."
   ]
  },
  {
   "cell_type": "code",
   "execution_count": 24,
   "id": "acb27b17",
   "metadata": {},
   "outputs": [
    {
     "data": {
      "text/plain": [
       "0.745    0.020833\n",
       "0.607    0.015625\n",
       "0.767    0.015625\n",
       "0.802    0.015625\n",
       "0.875    0.015625\n",
       "           ...   \n",
       "0.940    0.005208\n",
       "0.498    0.005208\n",
       "0.597    0.005208\n",
       "0.890    0.005208\n",
       "0.565    0.005208\n",
       "Name: Human Development Index, Length: 163, dtype: float64"
      ]
     },
     "execution_count": 24,
     "metadata": {},
     "output_type": "execute_result"
    }
   ],
   "source": [
    "merged_2021[\"Human Development Index\"].value_counts(sort = True, normalize = True)"
   ]
  }
 ],
 "metadata": {
  "kernelspec": {
   "display_name": "Python 3 (ipykernel)",
   "language": "python",
   "name": "python3"
  },
  "language_info": {
   "codemirror_mode": {
    "name": "ipython",
    "version": 3
   },
   "file_extension": ".py",
   "mimetype": "text/x-python",
   "name": "python",
   "nbconvert_exporter": "python",
   "pygments_lexer": "ipython3",
   "version": "3.9.13"
  }
 },
 "nbformat": 4,
 "nbformat_minor": 5
}
